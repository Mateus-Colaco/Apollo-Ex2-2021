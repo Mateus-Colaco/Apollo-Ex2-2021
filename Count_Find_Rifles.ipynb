{
  "nbformat": 4,
  "nbformat_minor": 0,
  "metadata": {
    "colab": {
      "name": "Count_Find_Rifles",
      "provenance": [],
      "collapsed_sections": [],
      "authorship_tag": "ABX9TyOKZFuoZC425aTNEsLdk3XD",
      "include_colab_link": true
    },
    "kernelspec": {
      "name": "python3",
      "display_name": "Python 3"
    },
    "language_info": {
      "name": "python"
    },
    "accelerator": "GPU"
  },
  "cells": [
    {
      "cell_type": "markdown",
      "metadata": {
        "id": "view-in-github",
        "colab_type": "text"
      },
      "source": [
        "<a href=\"https://colab.research.google.com/github/Mateus-Colaco/Apollo-Ex2-2021/blob/master/Count_Find_Rifles.ipynb\" target=\"_parent\"><img src=\"https://colab.research.google.com/assets/colab-badge.svg\" alt=\"Open In Colab\"/></a>"
      ]
    },
    {
      "cell_type": "code",
      "metadata": {
        "id": "K6brIrGY4E6F"
      },
      "source": [
        "#IMPORTING REQUIREMENTS AND DATASET\n",
        "!git clone https://github.com/ultralytics/yolov5  # clone repo\n",
        "%cd yolov5\n",
        "!git reset --hard 886f1c03d839575afecb059accf74296fad395b6\n",
        "!pip install -qr requirements.txt  # install dependencies (ignore errors)\n",
        "%cd /content\n",
        "!curl -L \"https://app.roboflow.com/ds/ktJuBlVrzC?key=Sdq5ibBm3v\" > roboflow.zip; unzip roboflow.zip; rm roboflow.zip\n"
      ],
      "execution_count": null,
      "outputs": []
    },
    {
      "cell_type": "code",
      "metadata": {
        "id": "XMZGVgJ6AdUH"
      },
      "source": [
        "!pip install -r https://raw.githubusercontent.com/ultralytics/yolov5/master/requirements.txt"
      ],
      "execution_count": null,
      "outputs": []
    },
    {
      "cell_type": "code",
      "metadata": {
        "id": "CG1sH5wOBpzt"
      },
      "source": [
        "%%time\n",
        "%cd /content/yolov5/\n",
        "!python train.py --img 640 --batch 30 --epochs 50  --data ../data.yaml --weights yolov5m.pt  --name yolov5s_results  --cache"
      ],
      "execution_count": null,
      "outputs": []
    },
    {
      "cell_type": "code",
      "metadata": {
        "id": "XVRTKQPhEOu2"
      },
      "source": [
        "%load_ext tensorboard\n",
        "%tensorboard --logdir runs"
      ],
      "execution_count": null,
      "outputs": []
    },
    {
      "cell_type": "code",
      "metadata": {
        "colab": {
          "base_uri": "https://localhost:8080/"
        },
        "id": "raZaAwh0Zv6P",
        "outputId": "160d5d97-10ba-47f9-e3e9-0181087451ab"
      },
      "source": [
        "from countpeople import *\n",
        "#EX2\n",
        "size_X,size_Y,fps = (640,640,30)\n",
        "video_to_frame_path = ShrinkVideo('/content/video_ex02_Trim.mp4','/content/shrinked_video.mp4',size_X,size_Y,fps)\n",
        "frames_to_video = defModel(video_to_frame_path,'custom',weights='/content/yolov5/runs/train/yolov5s_results3/weights/last.pt')\n",
        "final_video_base = writevideo(frames_to_video,size_X,size_Y,fps)"
      ],
      "execution_count": 1,
      "outputs": [
        {
          "output_type": "stream",
          "text": [
            "Using cache found in /root/.cache/torch/hub/ultralytics_yolov5_master\n",
            "Fusing layers... \n",
            "/usr/local/lib/python3.7/dist-packages/torch/nn/functional.py:718: UserWarning: Named tensors and all their associated APIs are an experimental feature and subject to change. Please do not use them for anything important until they are released as stable. (Triggered internally at  /pytorch/c10/core/TensorImpl.h:1156.)\n",
            "  return torch.max_pool2d(input, kernel_size, stride, padding, dilation, ceil_mode)\n",
            "\n",
            "Model Summary: 308 layers, 21037638 parameters, 0 gradients\n",
            "Adding AutoShape... \n",
            "YOLOv5 🚀 2021-6-25 torch 1.9.0+cu102 CUDA:0 (Tesla T4, 15109.75MB)\n",
            "\n"
          ],
          "name": "stderr"
        }
      ]
    }
  ]
}